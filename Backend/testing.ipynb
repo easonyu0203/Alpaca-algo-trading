{
 "cells": [
  {
   "cell_type": "code",
   "execution_count": 41,
   "metadata": {},
   "outputs": [],
   "source": [
    "from time import time"
   ]
  },
  {
   "cell_type": "code",
   "execution_count": 59,
   "metadata": {},
   "outputs": [],
   "source": [
    "start = time()\n",
    "while start + 5 > time():\n",
    "    pass"
   ]
  },
  {
   "cell_type": "code",
   "execution_count": 62,
   "metadata": {},
   "outputs": [
    {
     "data": {
      "text/plain": [
       "True"
      ]
     },
     "execution_count": 62,
     "metadata": {},
     "output_type": "execute_result"
    }
   ],
   "source": [
    "def simple_order(symbol: str, share_count: int):\n",
    "    '''\n",
    "    buy 'symbol' for 'share_count' share using market day order\n",
    "    raise exception if order fail\n",
    "    '''\n",
    "\n",
    "def close_position(symbol: str=None):\n",
    "    '''\n",
    "    close all position if 'symbol' == None\n",
    "    else close position of 'symbol'\n",
    "    raise exception if closing position fail\n",
    "    '''\n"
   ]
  }
 ],
 "metadata": {
  "interpreter": {
   "hash": "713c2da30833deae1f559b90111d2e9780cb516ec4128cd054a8a0377280aed1"
  },
  "kernelspec": {
   "display_name": "Python 3.9.2 64-bit ('.venv': venv)",
   "name": "python3"
  },
  "language_info": {
   "codemirror_mode": {
    "name": "ipython",
    "version": 3
   },
   "file_extension": ".py",
   "mimetype": "text/x-python",
   "name": "python",
   "nbconvert_exporter": "python",
   "pygments_lexer": "ipython3",
   "version": "3.9.2"
  },
  "orig_nbformat": 4
 },
 "nbformat": 4,
 "nbformat_minor": 2
}