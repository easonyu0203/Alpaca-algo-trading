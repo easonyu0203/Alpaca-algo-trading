{
 "cells": [
  {
   "cell_type": "code",
   "execution_count": 33,
   "metadata": {},
   "outputs": [],
   "source": [
    "import json, difflib\n",
    "\n",
    "import order, position, account\n",
    "from account import Account"
   ]
  },
  {
   "cell_type": "code",
   "execution_count": 39,
   "metadata": {},
   "outputs": [
    {
     "data": {
      "text/plain": [
       "{'id': '680e18e1-626a-411c-a2e2-cd4fe989451a',\n",
       " 'account_number': 'PA38X9VR75LF',\n",
       " 'status': 'ACTIVE',\n",
       " 'currency': 'USD',\n",
       " 'buying_power': '6000',\n",
       " 'regt_buying_power': '6000',\n",
       " 'daytrading_buying_power': '0',\n",
       " 'cash': '3000',\n",
       " 'portfolio_value': '3000',\n",
       " 'pattern_day_trader': False,\n",
       " 'trading_blocked': False,\n",
       " 'transfers_blocked': False,\n",
       " 'account_blocked': False,\n",
       " 'created_at': '2021-07-20T08:06:50.257166Z',\n",
       " 'trade_suspended_by_user': False,\n",
       " 'multiplier': '2',\n",
       " 'shorting_enabled': False,\n",
       " 'equity': '3000',\n",
       " 'last_equity': '3000',\n",
       " 'long_market_value': '0',\n",
       " 'short_market_value': '0',\n",
       " 'initial_margin': '0',\n",
       " 'maintenance_margin': '0',\n",
       " 'last_maintenance_margin': '0',\n",
       " 'sma': '0',\n",
       " 'daytrade_count': 0}"
      ]
     },
     "execution_count": 39,
     "metadata": {},
     "output_type": "execute_result"
    }
   ],
   "source": [
    "account.getAccountInfo()"
   ]
  },
  {
   "cell_type": "code",
   "execution_count": 7,
   "metadata": {},
   "outputs": [],
   "source": [
    "myAccount = Account()\n"
   ]
  }
 ],
 "metadata": {
  "interpreter": {
   "hash": "713c2da30833deae1f559b90111d2e9780cb516ec4128cd054a8a0377280aed1"
  },
  "kernelspec": {
   "display_name": "Python 3.9.2 64-bit ('.venv': venv)",
   "name": "python3"
  },
  "language_info": {
   "codemirror_mode": {
    "name": "ipython",
    "version": 3
   },
   "file_extension": ".py",
   "mimetype": "text/x-python",
   "name": "python",
   "nbconvert_exporter": "python",
   "pygments_lexer": "ipython3",
   "version": "3.9.2"
  },
  "orig_nbformat": 4
 },
 "nbformat": 4,
 "nbformat_minor": 2
}